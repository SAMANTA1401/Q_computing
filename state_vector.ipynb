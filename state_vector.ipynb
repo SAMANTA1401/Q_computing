{
 "cells": [
  {
   "cell_type": "markdown",
   "metadata": {},
   "source": [
    "state vector contains probablity of being a qbit state "
   ]
  },
  {
   "cell_type": "markdown",
   "metadata": {},
   "source": [
    "one qubit    [0] or [1]\n",
    "\n",
    "if the state vector is [0 1] that means [1] qubit"
   ]
  },
  {
   "cell_type": "markdown",
   "metadata": {},
   "source": [
    "two qubit [00], [01] , [10], [11]\n",
    "\n",
    "if the state vector is [ 0  0 1 0] that means state is [10] qubit"
   ]
  },
  {
   "cell_type": "markdown",
   "metadata": {},
   "source": [
    "four qubit  |0000, |0001, |0010, |0011, |0100, |0101, |0110, |0111, |1000, |1001, |1010, |1011, |1100, |1101, |1110, |1111\n",
    "\n",
    "if the state vector is [\n",
    "    0, 0, 0, 0, 0, 0, 0, 0, 0, 0, 0, 0, 0, 1, 0, 0\n",
    "] that means state is [1 1 0 1]"
   ]
  },
  {
   "cell_type": "markdown",
   "metadata": {},
   "source": []
  }
 ],
 "metadata": {
  "kernelspec": {
   "display_name": "Python 3",
   "language": "python",
   "name": "python3"
  },
  "language_info": {
   "name": "python",
   "version": "3.11.0"
  }
 },
 "nbformat": 4,
 "nbformat_minor": 2
}
