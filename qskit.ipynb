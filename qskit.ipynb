{
 "cells": [
  {
   "cell_type": "code",
   "execution_count": null,
   "metadata": {},
   "outputs": [
    {
     "name": "stdout",
     "output_type": "stream",
     "text": [
      "Requirement already satisfied: qiskit in d:\\a27_years_old\\quantum_comp\\venv\\lib\\site-packages (1.0.2)\n",
      "Requirement already satisfied: rustworkx>=0.14.0 in d:\\a27_years_old\\quantum_comp\\venv\\lib\\site-packages (from qiskit) (0.14.2)\n",
      "Requirement already satisfied: numpy<2,>=1.17 in d:\\a27_years_old\\quantum_comp\\venv\\lib\\site-packages (from qiskit) (1.26.4)\n",
      "Requirement already satisfied: scipy>=1.5 in c:\\users\\lenovo\\appdata\\roaming\\python\\python311\\site-packages (from qiskit) (1.15.1)\n",
      "Requirement already satisfied: sympy>=1.3 in d:\\a27_years_old\\quantum_comp\\venv\\lib\\site-packages (from qiskit) (1.12)\n",
      "Requirement already satisfied: dill>=0.3 in c:\\users\\lenovo\\appdata\\roaming\\python\\python311\\site-packages (from qiskit) (0.3.9)\n",
      "Requirement already satisfied: python-dateutil>=2.8.0 in d:\\a27_years_old\\quantum_comp\\venv\\lib\\site-packages (from qiskit) (2.9.0.post0)\n",
      "Requirement already satisfied: stevedore>=3.0.0 in d:\\a27_years_old\\quantum_comp\\venv\\lib\\site-packages (from qiskit) (5.2.0)\n",
      "Requirement already satisfied: typing-extensions in d:\\a27_years_old\\quantum_comp\\venv\\lib\\site-packages (from qiskit) (4.10.0)\n",
      "Requirement already satisfied: symengine>=0.11 in d:\\a27_years_old\\quantum_comp\\venv\\lib\\site-packages (from qiskit) (0.11.0)\n",
      "Requirement already satisfied: six>=1.5 in d:\\a27_years_old\\quantum_comp\\venv\\lib\\site-packages (from python-dateutil>=2.8.0->qiskit) (1.16.0)\n",
      "Requirement already satisfied: pbr!=2.1.0,>=2.0.0 in d:\\a27_years_old\\quantum_comp\\venv\\lib\\site-packages (from stevedore>=3.0.0->qiskit) (6.0.0)\n",
      "Requirement already satisfied: mpmath>=0.19 in d:\\a27_years_old\\quantum_comp\\venv\\lib\\site-packages (from sympy>=1.3->qiskit) (1.3.0)\n",
      "Note: you may need to restart the kernel to use updated packages.\n"
     ]
    }
   ],
   "source": [
    "# pip install qiskit"
   ]
  },
  {
   "cell_type": "code",
   "execution_count": null,
   "metadata": {},
   "outputs": [
    {
     "name": "stdout",
     "output_type": "stream",
     "text": [
      "Requirement already satisfied: qiskit_aer in d:\\a27_years_old\\quantum_comp\\venv\\lib\\site-packages (0.13.3)\n",
      "Requirement already satisfied: qiskit>=0.45.0 in d:\\a27_years_old\\quantum_comp\\venv\\lib\\site-packages (from qiskit_aer) (1.0.2)\n",
      "Requirement already satisfied: numpy>=1.16.3 in d:\\a27_years_old\\quantum_comp\\venv\\lib\\site-packages (from qiskit_aer) (1.26.4)\n",
      "Requirement already satisfied: scipy>=1.0 in c:\\users\\lenovo\\appdata\\roaming\\python\\python311\\site-packages (from qiskit_aer) (1.15.1)\n",
      "Requirement already satisfied: psutil>=5 in d:\\a27_years_old\\quantum_comp\\venv\\lib\\site-packages (from qiskit_aer) (5.9.8)\n",
      "Requirement already satisfied: rustworkx>=0.14.0 in d:\\a27_years_old\\quantum_comp\\venv\\lib\\site-packages (from qiskit>=0.45.0->qiskit_aer) (0.14.2)\n",
      "Requirement already satisfied: sympy>=1.3 in d:\\a27_years_old\\quantum_comp\\venv\\lib\\site-packages (from qiskit>=0.45.0->qiskit_aer) (1.12)\n",
      "Requirement already satisfied: dill>=0.3 in c:\\users\\lenovo\\appdata\\roaming\\python\\python311\\site-packages (from qiskit>=0.45.0->qiskit_aer) (0.3.9)\n",
      "Requirement already satisfied: python-dateutil>=2.8.0 in d:\\a27_years_old\\quantum_comp\\venv\\lib\\site-packages (from qiskit>=0.45.0->qiskit_aer) (2.9.0.post0)\n",
      "Requirement already satisfied: stevedore>=3.0.0 in d:\\a27_years_old\\quantum_comp\\venv\\lib\\site-packages (from qiskit>=0.45.0->qiskit_aer) (5.2.0)\n",
      "Requirement already satisfied: typing-extensions in d:\\a27_years_old\\quantum_comp\\venv\\lib\\site-packages (from qiskit>=0.45.0->qiskit_aer) (4.10.0)\n",
      "Requirement already satisfied: symengine>=0.11 in d:\\a27_years_old\\quantum_comp\\venv\\lib\\site-packages (from qiskit>=0.45.0->qiskit_aer) (0.11.0)\n",
      "Requirement already satisfied: six>=1.5 in d:\\a27_years_old\\quantum_comp\\venv\\lib\\site-packages (from python-dateutil>=2.8.0->qiskit>=0.45.0->qiskit_aer) (1.16.0)\n",
      "Requirement already satisfied: pbr!=2.1.0,>=2.0.0 in d:\\a27_years_old\\quantum_comp\\venv\\lib\\site-packages (from stevedore>=3.0.0->qiskit>=0.45.0->qiskit_aer) (6.0.0)\n",
      "Requirement already satisfied: mpmath>=0.19 in d:\\a27_years_old\\quantum_comp\\venv\\lib\\site-packages (from sympy>=1.3->qiskit>=0.45.0->qiskit_aer) (1.3.0)\n",
      "Note: you may need to restart the kernel to use updated packages.\n"
     ]
    }
   ],
   "source": [
    "# pip install qiskit_aer"
   ]
  },
  {
   "cell_type": "code",
   "execution_count": 3,
   "metadata": {},
   "outputs": [],
   "source": [
    "from qiskit import QuantumCircuit, QuantumRegister, transpile\n",
    "from qiskit_aer import AerSimulator"
   ]
  },
  {
   "cell_type": "code",
   "execution_count": 4,
   "metadata": {},
   "outputs": [],
   "source": [
    "register = QuantumRegister(1)\n",
    "circuit = QuantumCircuit(register)"
   ]
  },
  {
   "cell_type": "markdown",
   "metadata": {},
   "source": [
    "This creates a quantum register with 1 qubit. (A quantum register is just a collection of qubits). In Qiskit, all registers start with all the qubits set to 0. It then creates a circuit containing our register"
   ]
  },
  {
   "cell_type": "code",
   "execution_count": 5,
   "metadata": {},
   "outputs": [
    {
     "data": {
      "text/plain": [
       "<qiskit.circuit.instructionset.InstructionSet at 0x2dab0106140>"
      ]
     },
     "execution_count": 5,
     "metadata": {},
     "output_type": "execute_result"
    }
   ],
   "source": [
    "circuit.x(register[0])"
   ]
  },
  {
   "cell_type": "markdown",
   "metadata": {},
   "source": [
    "This line applies an X gate (e.g. a NOT gate) to the first qubit in our register"
   ]
  },
  {
   "cell_type": "code",
   "execution_count": 6,
   "metadata": {},
   "outputs": [],
   "source": [
    "circuit.measure_all()"
   ]
  },
  {
   "cell_type": "markdown",
   "metadata": {},
   "source": [
    "This will measure all the qubits in our circuit"
   ]
  },
  {
   "cell_type": "code",
   "execution_count": 8,
   "metadata": {},
   "outputs": [
    {
     "name": "stdout",
     "output_type": "stream",
     "text": [
      "{'1': 1000}\n"
     ]
    }
   ],
   "source": [
    "simulator = AerSimulator()\n",
    "\n",
    "compiled_circuit = transpile(circuit, simulator)\n",
    "\n",
    "job = simulator.run(compiled_circuit, shots=1000)\n",
    "\n",
    "result = job.result()\n",
    "counts = result.get_counts(compiled_circuit)\n",
    "\n",
    "print(counts)"
   ]
  },
  {
   "cell_type": "markdown",
   "metadata": {},
   "source": [
    "This tells us we got the result 1 a thousand times which is exactly what we’d expect because we started with a qubit set to 0 then applied a NOT gate to change it to a 1."
   ]
  },
  {
   "cell_type": "markdown",
   "metadata": {},
   "source": [
    "This will create a simulator that simulates a quantum computer. It will then take our circuit and convert it into a form that the simulator can understand. Then it will run 1000 times on the simulator."
   ]
  },
  {
   "cell_type": "markdown",
   "metadata": {},
   "source": []
  }
 ],
 "metadata": {
  "kernelspec": {
   "display_name": "Python 3",
   "language": "python",
   "name": "python3"
  },
  "language_info": {
   "codemirror_mode": {
    "name": "ipython",
    "version": 3
   },
   "file_extension": ".py",
   "mimetype": "text/x-python",
   "name": "python",
   "nbconvert_exporter": "python",
   "pygments_lexer": "ipython3",
   "version": "3.11.0"
  }
 },
 "nbformat": 4,
 "nbformat_minor": 2
}
